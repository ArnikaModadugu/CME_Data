{
  "cells": [
    {
      "cell_type": "code",
      "execution_count": 4,
      "metadata": {
        "colab": {
          "base_uri": "https://localhost:8080/"
        },
        "id": "BuwaZlzXe2wr",
        "outputId": "50734957-ea48-414e-f959-20899fdbe000"
      },
      "outputs": [
        {
          "name": "stdout",
          "output_type": "stream",
          "text": [
            "Collecting azure-storage-blob\n",
            "  Downloading azure_storage_blob-12.19.1-py3-none-any.whl (394 kB)\n",
            "\u001b[2K     \u001b[90m━━━━━━━━━━━━━━━━━━━━━━━━━━━━━━━━━━━━━━━━\u001b[0m \u001b[32m394.5/394.5 kB\u001b[0m \u001b[31m6.4 MB/s\u001b[0m eta \u001b[36m0:00:00\u001b[0m\n",
            "\u001b[?25hCollecting azure-core<2.0.0,>=1.28.0 (from azure-storage-blob)\n",
            "  Downloading azure_core-1.30.1-py3-none-any.whl (193 kB)\n",
            "\u001b[2K     \u001b[90m━━━━━━━━━━━━━━━━━━━━━━━━━━━━━━━━━━━━━━━━\u001b[0m \u001b[32m193.4/193.4 kB\u001b[0m \u001b[31m17.2 MB/s\u001b[0m eta \u001b[36m0:00:00\u001b[0m\n",
            "\u001b[?25hRequirement already satisfied: cryptography>=2.1.4 in /usr/local/lib/python3.10/dist-packages (from azure-storage-blob) (42.0.5)\n",
            "Requirement already satisfied: typing-extensions>=4.3.0 in /usr/local/lib/python3.10/dist-packages (from azure-storage-blob) (4.11.0)\n",
            "Collecting isodate>=0.6.1 (from azure-storage-blob)\n",
            "  Downloading isodate-0.6.1-py2.py3-none-any.whl (41 kB)\n",
            "\u001b[2K     \u001b[90m━━━━━━━━━━━━━━━━━━━━━━━━━━━━━━━━━━━━━━━━\u001b[0m \u001b[32m41.7/41.7 kB\u001b[0m \u001b[31m3.7 MB/s\u001b[0m eta \u001b[36m0:00:00\u001b[0m\n",
            "\u001b[?25hRequirement already satisfied: requests>=2.21.0 in /usr/local/lib/python3.10/dist-packages (from azure-core<2.0.0,>=1.28.0->azure-storage-blob) (2.31.0)\n",
            "Requirement already satisfied: six>=1.11.0 in /usr/local/lib/python3.10/dist-packages (from azure-core<2.0.0,>=1.28.0->azure-storage-blob) (1.16.0)\n",
            "Requirement already satisfied: cffi>=1.12 in /usr/local/lib/python3.10/dist-packages (from cryptography>=2.1.4->azure-storage-blob) (1.16.0)\n",
            "Requirement already satisfied: pycparser in /usr/local/lib/python3.10/dist-packages (from cffi>=1.12->cryptography>=2.1.4->azure-storage-blob) (2.22)\n",
            "Requirement already satisfied: charset-normalizer<4,>=2 in /usr/local/lib/python3.10/dist-packages (from requests>=2.21.0->azure-core<2.0.0,>=1.28.0->azure-storage-blob) (3.3.2)\n",
            "Requirement already satisfied: idna<4,>=2.5 in /usr/local/lib/python3.10/dist-packages (from requests>=2.21.0->azure-core<2.0.0,>=1.28.0->azure-storage-blob) (3.7)\n",
            "Requirement already satisfied: urllib3<3,>=1.21.1 in /usr/local/lib/python3.10/dist-packages (from requests>=2.21.0->azure-core<2.0.0,>=1.28.0->azure-storage-blob) (2.0.7)\n",
            "Requirement already satisfied: certifi>=2017.4.17 in /usr/local/lib/python3.10/dist-packages (from requests>=2.21.0->azure-core<2.0.0,>=1.28.0->azure-storage-blob) (2024.2.2)\n",
            "Installing collected packages: isodate, azure-core, azure-storage-blob\n",
            "Successfully installed azure-core-1.30.1 azure-storage-blob-12.19.1 isodate-0.6.1\n"
          ]
        }
      ],
      "source": [
        "pip install azure-storage-blob"
      ]
    },
    {
      "cell_type": "code",
      "execution_count": 5,
      "metadata": {
        "id": "VWo_BKfpMzc2"
      },
      "outputs": [],
      "source": [
        "# import Librairies\n",
        "import pandas as pd\n",
        "import numpy as  np\n",
        "import json\n",
        "import requests\n",
        "from azure.storage.blob import BlobServiceClient, BlobClient, ContainerClient\n",
        "from google.cloud import storage\n",
        "from io import StringIO"
      ]
    },
    {
      "cell_type": "code",
      "execution_count": 1,
      "metadata": {
        "id": "aYcOxXXreLCr"
      },
      "outputs": [],
      "source": [
        "from google.colab import userdata"
      ]
    },
    {
      "cell_type": "code",
      "execution_count": null,
      "metadata": {
        "colab": {
          "base_uri": "https://localhost:8080/"
        },
        "id": "SaxnBHukM6WZ",
        "outputId": "33a645e2-f56b-4745-f134-dbd7017878b7"
      },
      "outputs": [
        {
          "name": "stdout",
          "output_type": "stream",
          "text": [
            "Blobs in container 'cmequeryorderrecord':\n",
            "20231017_XCBT_Commodity%252FAgriculture_1\n",
            "20231017_XCBT_Equity_1\n",
            "20231017_XCBT_Interest Rate_1\n",
            "20231017_XCEC_Energy_1\n",
            "20231017_XCEC_Metals\n",
            "20231017_XCME_Commodity%252FAgriculture\n",
            "20231017_XCME_Currency_1\n",
            "20231017_XCME_Equity_1\n",
            "20231017_XCME_Interest Rate_1\n",
            "20231017_XNYM_Energy_1\n",
            "20231017_XNYM_Metals_1\n",
            "20231018_XCBT_Commodity%252FAgriculture\n",
            "20231018_XCBT_Equity_1\n",
            "20231018_XCEC_Energy_1\n",
            "20231018_XCEC_Metals_1\n",
            "20231018_XCME_Commodity%252FAgriculture_1\n",
            "20231018_XCME_Currency_1\n",
            "20231018_XCME_Equity_1\n",
            "20231018_XNYM_Energy_1\n",
            "20231018_XNYM_Metals_1\n",
            "20231019_XCBT_Commodity%252FAgriculture_1\n",
            "20231019_XCBT_Equity_1\n",
            "20231019_XCBT_Interest Rate_1\n",
            "20231019_XCEC_Energy_1\n",
            "20231019_XCEC_Metals_1\n",
            "20231019_XCME_Commodity%252FAgriculture_1\n",
            "20231019_XCME_Equity_1\n",
            "20231019_XNYM_Commodity%252FAgriculture_1\n",
            "20231019_XNYM_Energy_1\n",
            "20231019_XNYM_Metals_1\n",
            "20231020_XCBT_Commodity%252FAgriculture_1\n",
            "20231020_XCBT_Equity_1\n",
            "20231020_XCEC_Energy_1\n",
            "20231020_XCEC_Metals\n",
            "20231020_XCME_Currency_1\n",
            "20231020_XCME_Equity_1\n",
            "20231020_XNYM_Energy\n",
            "20231020_XNYM_Metals\n",
            "20231023_XCBT_Commodity%252FAgriculture_1\n",
            "20231023_XCBT_Equity_1\n",
            "20231023_XCEC_Energy_1\n",
            "20231023_XCEC_Metals_1\n",
            "20231023_XCME_Currency_1\n",
            "20231023_XCME_Equity\n",
            "20231023_XNYM_Energy\n",
            "20231023_XNYM_Metals_1\n",
            "XCBT/Commodity_Agriculture/20231124.json\n",
            "XCME/Commodity_Agriculture/20231002.json\n",
            "XCME/Commodity_Agriculture/20231003.json\n",
            "XCME/Commodity_Agriculture/20231004.json\n",
            "XCME/Commodity_Agriculture/20231005.json\n",
            "XCME/Commodity_Agriculture/20231006.json\n",
            "XCME/Commodity_Agriculture/20231010.json\n",
            "XCME/Commodity_Agriculture/20231011\n",
            "XCME/Commodity_Agriculture/20231012\n",
            "XCME/Commodity_Agriculture/20231013\n",
            "XCME/Commodity_Agriculture/20231016\n",
            "XCME/Commodity_Agriculture/20231124.json\n",
            "XNYM/Commodity_Agriculture/20231124.json\n",
            "XNYM/Currency/20231124.json\n",
            "XNYM/Energy/20231124.json\n",
            "XNYM/Equity/20231124.json\n",
            "XNYM/Interest Rate/20231124.json\n",
            "XNYM/Metals/20231124.json\n"
          ]
        }
      ],
      "source": [
        "from azure.storage.blob import BlobServiceClient\n",
        "\n",
        "CONNECTION_STRING_AZURE_STORAGE = userdata.get('CONNECTION_STRING_AZURE_STORAGE')\n",
        "CONTAINER_AZURE = 'cmequeryorderrecord'\n",
        "\n",
        "def azure_print_blob_names(connection_string, container_name):\n",
        "    blob_service_client = BlobServiceClient.from_connection_string(connection_string)\n",
        "    container_client = blob_service_client.get_container_client(container_name)\n",
        "\n",
        "    print(f\"Blobs in container '{container_name}':\")\n",
        "    for blob in container_client.list_blobs():\n",
        "        print(blob.name)\n",
        "\n",
        "# Now you can use the azure_print_blob_names function to print all blob names in the container\n",
        "azure_print_blob_names(CONNECTION_STRING_AZURE_STORAGE, CONTAINER_AZURE)\n"
      ]
    },
    {
      "cell_type": "code",
      "execution_count": 6,
      "metadata": {
        "colab": {
          "base_uri": "https://localhost:8080/"
        },
        "id": "uKh_wTZQfJ8J",
        "outputId": "9b5a06a4-e6e1-48ac-9eb4-57484efd490f"
      },
      "outputs": [
        {
          "name": "stdout",
          "output_type": "stream",
          "text": [
            "Collecting snowflake-connector-python\n",
            "  Downloading snowflake_connector_python-3.10.0-cp310-cp310-manylinux_2_17_x86_64.manylinux2014_x86_64.whl (2.5 MB)\n",
            "\u001b[2K     \u001b[90m━━━━━━━━━━━━━━━━━━━━━━━━━━━━━━━━━━━━━━━━\u001b[0m \u001b[32m2.5/2.5 MB\u001b[0m \u001b[31m8.4 MB/s\u001b[0m eta \u001b[36m0:00:00\u001b[0m\n",
            "\u001b[?25hCollecting asn1crypto<2.0.0,>0.24.0 (from snowflake-connector-python)\n",
            "  Downloading asn1crypto-1.5.1-py2.py3-none-any.whl (105 kB)\n",
            "\u001b[2K     \u001b[90m━━━━━━━━━━━━━━━━━━━━━━━━━━━━━━━━━━━━━━━━\u001b[0m \u001b[32m105.0/105.0 kB\u001b[0m \u001b[31m9.5 MB/s\u001b[0m eta \u001b[36m0:00:00\u001b[0m\n",
            "\u001b[?25hRequirement already satisfied: cffi<2.0.0,>=1.9 in /usr/local/lib/python3.10/dist-packages (from snowflake-connector-python) (1.16.0)\n",
            "Requirement already satisfied: cryptography<43.0.0,>=3.1.0 in /usr/local/lib/python3.10/dist-packages (from snowflake-connector-python) (42.0.5)\n",
            "Requirement already satisfied: pyOpenSSL<25.0.0,>=16.2.0 in /usr/local/lib/python3.10/dist-packages (from snowflake-connector-python) (24.1.0)\n",
            "Requirement already satisfied: pyjwt<3.0.0 in /usr/lib/python3/dist-packages (from snowflake-connector-python) (2.3.0)\n",
            "Requirement already satisfied: pytz in /usr/local/lib/python3.10/dist-packages (from snowflake-connector-python) (2023.4)\n",
            "Requirement already satisfied: requests<3.0.0 in /usr/local/lib/python3.10/dist-packages (from snowflake-connector-python) (2.31.0)\n",
            "Requirement already satisfied: packaging in /usr/local/lib/python3.10/dist-packages (from snowflake-connector-python) (24.0)\n",
            "Requirement already satisfied: charset-normalizer<4,>=2 in /usr/local/lib/python3.10/dist-packages (from snowflake-connector-python) (3.3.2)\n",
            "Requirement already satisfied: idna<4,>=2.5 in /usr/local/lib/python3.10/dist-packages (from snowflake-connector-python) (3.7)\n",
            "Requirement already satisfied: certifi>=2017.4.17 in /usr/local/lib/python3.10/dist-packages (from snowflake-connector-python) (2024.2.2)\n",
            "Requirement already satisfied: typing-extensions<5,>=4.3 in /usr/local/lib/python3.10/dist-packages (from snowflake-connector-python) (4.11.0)\n",
            "Requirement already satisfied: filelock<4,>=3.5 in /usr/local/lib/python3.10/dist-packages (from snowflake-connector-python) (3.13.4)\n",
            "Requirement already satisfied: sortedcontainers>=2.4.0 in /usr/local/lib/python3.10/dist-packages (from snowflake-connector-python) (2.4.0)\n",
            "Requirement already satisfied: platformdirs<5.0.0,>=2.6.0 in /usr/local/lib/python3.10/dist-packages (from snowflake-connector-python) (4.2.1)\n",
            "Collecting tomlkit (from snowflake-connector-python)\n",
            "  Downloading tomlkit-0.12.4-py3-none-any.whl (37 kB)\n",
            "Requirement already satisfied: pycparser in /usr/local/lib/python3.10/dist-packages (from cffi<2.0.0,>=1.9->snowflake-connector-python) (2.22)\n",
            "Requirement already satisfied: urllib3<3,>=1.21.1 in /usr/local/lib/python3.10/dist-packages (from requests<3.0.0->snowflake-connector-python) (2.0.7)\n",
            "Installing collected packages: asn1crypto, tomlkit, snowflake-connector-python\n",
            "Successfully installed asn1crypto-1.5.1 snowflake-connector-python-3.10.0 tomlkit-0.12.4\n"
          ]
        }
      ],
      "source": [
        "pip install snowflake-connector-python\n"
      ]
    },
    {
      "cell_type": "code",
      "execution_count": 7,
      "metadata": {
        "id": "VOD5XSAbNSpF"
      },
      "outputs": [],
      "source": [
        "import pandas as pd\n",
        "import numpy as np\n",
        "import json\n",
        "import requests\n",
        "from io import StringIO\n",
        "from google.cloud import storage\n",
        "from math import ceil\n",
        "import datetime\n",
        "import calendar\n",
        "from sqlalchemy import create_engine\n",
        "from snowflake.connector import connect\n",
        "\n",
        "from snowflake.connector import connect\n",
        "from sqlalchemy import create_engine\n",
        "from sqlalchemy.dialects import registry\n",
        "\n",
        "\n",
        "import pandas as pd\n",
        "from io import StringIO"
      ]
    },
    {
      "cell_type": "code",
      "execution_count": 8,
      "metadata": {
        "colab": {
          "base_uri": "https://localhost:8080/"
        },
        "id": "fU9BlvHLYZLa",
        "outputId": "bfe337c9-5114-4575-c946-4cf81b7294ad"
      },
      "outputs": [
        {
          "name": "stdout",
          "output_type": "stream",
          "text": [
            "Connection successful. Current date: 2024-04-30\n"
          ]
        }
      ],
      "source": [
        "import snowflake.connector\n",
        "\n",
        "# Define Snowflake connection parameters\n",
        "snowflake_connection_params = {\n",
        "    'user': 'sahithiarnika',\n",
        "    'password': userdata.get('snowflake_password'),\n",
        "    'account': 'dta91693.east-us-2.azure',\n",
        "    'database': 'CMEDATA'\n",
        "}\n",
        "\n",
        "try:\n",
        "    # Establish connection to Snowflake\n",
        "    snowflake_conn = snowflake.connector.connect(**snowflake_connection_params)\n",
        "    snowflake_cursor = snowflake_conn.cursor()\n",
        "\n",
        "    # Execute a test query to check if the connection is successful\n",
        "    snowflake_cursor.execute(\"SELECT CURRENT_DATE()\")\n",
        "\n",
        "    # Fetch the result (optional)\n",
        "    result = snowflake_cursor.fetchone()\n",
        "    if result:\n",
        "        print(\"Connection successful. Current date:\", result[0])\n",
        "    else:\n",
        "        print(\"Connection successful.\")\n",
        "\n",
        "except snowflake.connector.errors.DatabaseError as e:\n",
        "    print(\"Error connecting to Snowflake:\", e)\n",
        "\n",
        "finally:\n",
        "    # Close the cursor and connection\n",
        "    snowflake_cursor.close()\n",
        "    snowflake_conn.close()\n"
      ]
    },
    {
      "cell_type": "code",
      "execution_count": null,
      "metadata": {
        "colab": {
          "base_uri": "https://localhost:8080/"
        },
        "id": "GeQqJfcJaUHr",
        "outputId": "7706a28e-36d7-4f9c-87c9-2e642855729a"
      },
      "outputs": [
        {
          "name": "stdout",
          "output_type": "stream",
          "text": [
            "Table created successfully.\n"
          ]
        }
      ],
      "source": [
        "import snowflake.connector\n",
        "\n",
        "# Snowflake connection parameters\n",
        "snowflake_connection_params = {\n",
        "    'user': 'sahithiarnika',\n",
        "    'password': 'userdata.get('snowflake_password'),\n",
        "    'account': 'dta91693.east-us-2.azure',\n",
        "    'database': 'CMEDATA',\n",
        "    'schema' : 'PUBLIC'\n",
        "}\n",
        "\n",
        "try:\n",
        "    # Establish connection to Snowflake\n",
        "    snowflake_conn = snowflake.connector.connect(**snowflake_connection_params)\n",
        "    snowflake_cursor = snowflake_conn.cursor()\n",
        "\n",
        "    # SQL statement to create a table with schema PUBLIC\n",
        "    create_table_sql = \"\"\"\n",
        "    CREATE TABLE IF NOT EXISTS PUBLIC.CMEDATA_TABLE (\n",
        "        actiontype STRING,\n",
        "        symbol STRING,\n",
        "        securitytype STRING,\n",
        "        securityexchange STRING,\n",
        "        nanotime INT,\n",
        "        lowlimitprice STRING,\n",
        "        underlyingsecurityid STRING,\n",
        "        securitytradingevent STRING,\n",
        "        transacttime TIMESTAMP,\n",
        "        maturitymonthyear STRING,\n",
        "        securityid STRING,\n",
        "        currencycode STRING,\n",
        "        inst_req_act STRING,\n",
        "        groupcode STRING,\n",
        "        supporteddatevalidity STRING,\n",
        "        hour INT,\n",
        "        instrumentsequencenumber INT,\n",
        "        recordtype STRING,\n",
        "        underlyingsymbol STRING,\n",
        "        marketsegmentid STRING,\n",
        "        putorcall STRING,\n",
        "        underlyingProduct STRING,\n",
        "        nolegs INT,\n",
        "        maturitydate DATE,\n",
        "        strategycode STRING,\n",
        "        displayconversionfactor DECIMAL(18,9),\n",
        "        activationdatetime TIMESTAMP,\n",
        "        tradedate DATE,\n",
        "        expirationdatetime TIMESTAMP,\n",
        "        highlimitprice STRING,\n",
        "        asset STRING,\n",
        "        messagestatus STRING,\n",
        "        isuserdefinedinstrument STRING,\n",
        "        status STRING\n",
        "    )\n",
        "    \"\"\"\n",
        "\n",
        "    # Execute the SQL statement to create the table\n",
        "    snowflake_cursor.execute(create_table_sql)\n",
        "    print(\"Table created successfully.\")\n",
        "\n",
        "except snowflake.connector.errors.DatabaseError as e:\n",
        "    print(\"Error creating table:\", e)\n",
        "\n",
        "finally:\n",
        "    # Close the cursor and connection\n",
        "    snowflake_cursor.close()\n",
        "    snowflake_conn.close()\n"
      ]
    },
    {
      "cell_type": "code",
      "execution_count": null,
      "metadata": {
        "colab": {
          "base_uri": "https://localhost:8080/"
        },
        "id": "N_lQeuyy9mRQ",
        "outputId": "0b68c173-8b62-402a-f60f-6c7b2ff10b0e"
      },
      "outputs": [
        {
          "name": "stdout",
          "output_type": "stream",
          "text": [
            "Number of records in XCME/Commodity_Agriculture/20231002.json: 1\n"
          ]
        }
      ],
      "source": [
        "from azure.storage.blob import BlobServiceClient\n",
        "\n",
        "# Define Azure Blob Storage connection string and container name\n",
        "azure_storage_connection_string = userdata.get('CONNECTION_STRING_AZURE_STORAGE')\n",
        "container_name = 'cmequeryorderrecord'\n",
        "blob_names_to_load = ['XCME/Commodity_Agriculture/20231002.json']\n",
        "\n",
        "# Function to count the number of records in the JSON data\n",
        "def count_records(blob_client):\n",
        "    count = 0\n",
        "    try:\n",
        "        stream = blob_client.download_blob()\n",
        "        for line in stream.readall().decode('utf-8').split('\\n'):\n",
        "            if line.strip():\n",
        "                count += 1\n",
        "        return count\n",
        "    except Exception as e:\n",
        "        print(\"Error reading from Azure Blob Storage:\", e)\n",
        "        return None\n",
        "\n",
        "# Connect to Azure Blob Storage\n",
        "blob_service_client = BlobServiceClient.from_connection_string(azure_storage_connection_string)\n",
        "\n",
        "# Loop over each blob\n",
        "for blob_name in blob_names_to_load:\n",
        "    blob_client = blob_service_client.get_blob_client(container=container_name, blob=blob_name)\n",
        "    # Count the number of records in the JSON data\n",
        "    num_records = count_records(blob_client)\n",
        "    if num_records is not None:\n",
        "        print(\"Number of records in {}: {}\".format(blob_name, num_records))\n"
      ]
    },
    {
      "cell_type": "code",
      "execution_count": null,
      "metadata": {
        "colab": {
          "base_uri": "https://localhost:8080/"
        },
        "id": "IsRhxmb_SgiD",
        "outputId": "1b07214e-bd05-4a69-be6e-5ea1d1453e6b"
      },
      "outputs": [
        {
          "name": "stdout",
          "output_type": "stream",
          "text": [
            "Error decoding JSON: Expecting ',' delimiter: line 1 column 886 (char 885)\n",
            "Chunk causing the error: [{\"actiontype\": \"GS\", \"symbol\": \"AFTZ3-AFTZ6\", \"securitytype\": \"FUT\", \"securityexchange\": \"XCME\", \"nanotime\": \"0\", \"lowlimitprice\": \"NaN\", \"underlyingsecurityid\": \"\", \"securitytradingevent\": \"NE\", \"transacttime\": \"2023-10-02 15:30:00.0\", \"maturitymonthyear\": \"202312\", \"securityid\": \"94957\", \"currencycode\": \"GBP\", \"inst_req_act\": \"A\", \"groupcode\": \"FI\", \"supporteddatevalidity\": \"J\", \"hour\": \"15\", \"instrumentsequencenumber\": \"2\", \"recordtype\": \"GSC\", \"underlyingsymbol\": \"\", \"marketsegmentid\": \"68\", \"putorcall\": \"\", \"underlyingProduct\": \"Commodity%2FAgriculture\", \"nolegs\": \"2\", \"maturitydate\": \"2023-10-02\", \"strategycode\": \"EC\", \"displayconversionfactor\": \"0.010000000\", \"activationdatetime\": \"2022-01-21\", \"tradedate\": \"2023-10-02\", \"expirationdatetime\": \"2023-12-14\", \"highlimitprice\": \"NaN\", \"asset\": \"AFT\", \"messagestatus\": \"A\", \"isuserdefinedinstrument\": \"H\", \"status\": \"CL\"}\n"
          ]
        }
      ],
      "source": [
        "from azure.storage.blob import BlobServiceClient\n",
        "import json\n",
        "\n",
        "# Define Azure Blob Storage connection string and container name\n",
        "azure_storage_connection_string = userdata.get('CONNECTION_STRING_AZURE_STORAGE')\n",
        "container_name = 'cmequeryorderrecord'\n",
        "blob_names_to_load = ['XCME/Commodity_Agriculture/20231002.json']\n",
        "\n",
        "# Function to read only 1 chunk of data and print 2 columns\n",
        "def read_one_chunk_print_2_columns():\n",
        "    try:\n",
        "        # Connect to Azure Blob Storage\n",
        "        blob_service_client = BlobServiceClient.from_connection_string(azure_storage_connection_string)\n",
        "\n",
        "        # Stream JSON data from each blob\n",
        "        for blob_name in blob_names_to_load:\n",
        "            blob_client = blob_service_client.get_blob_client(container=container_name, blob=blob_name)\n",
        "\n",
        "            # Stream JSON data from Azure Blob Storage\n",
        "            stream = blob_client.download_blob()\n",
        "\n",
        "            # Read only one chunk of data\n",
        "            chunk_size = 885  # Adjust chunk size as needed\n",
        "            data = stream.read(chunk_size)\n",
        "\n",
        "            try:\n",
        "                # Process the chunk (decode and load JSON)\n",
        "                decoded_data = data.decode('utf-8')\n",
        "                element = json.loads(decoded_data)\n",
        "\n",
        "                # Extract only 2 columns\n",
        "                columns = {}\n",
        "                for i in range(1, 3):  # Assuming column names are 'column1', 'column2'\n",
        "                    column_name = f'column{i}'\n",
        "                    if column_name in element:\n",
        "                        columns[column_name] = element[column_name]\n",
        "                    else:\n",
        "                        columns[column_name] = None  # Or any default value you prefer\n",
        "\n",
        "                # Print or process the extracted columns\n",
        "                print(columns)\n",
        "\n",
        "            except json.JSONDecodeError as e:\n",
        "                print(\"Error decoding JSON:\", e)\n",
        "                print(\"Chunk causing the error:\", decoded_data)\n",
        "\n",
        "    except Exception as e:\n",
        "        print(\"An error occurred:\", e)\n",
        "\n",
        "# Call the function to read only 1 chunk of data and print 2 columns\n",
        "read_one_chunk_print_2_columns()\n"
      ]
    },
    {
      "cell_type": "code",
      "execution_count": null,
      "metadata": {
        "colab": {
          "base_uri": "https://localhost:8080/"
        },
        "id": "W-JxHyrUSgsw",
        "outputId": "f256d365-8f2b-4595-c303-be8aa61b6908"
      },
      "outputs": [
        {
          "name": "stdout",
          "output_type": "stream",
          "text": [
            "Data loaded into Snowflake successfully.\n"
          ]
        }
      ],
      "source": [
        "import snowflake.connector\n",
        "import json\n",
        "from azure.storage.blob import BlobServiceClient\n",
        "\n",
        "# Snowflake connection parameters\n",
        "snowflake_connection_params = {\n",
        "    'user': 'sahithiarnika',\n",
        "    'password': userdata.get('snowflake_password'),\n",
        "    'account': 'dta91693.east-us-2.azure',\n",
        "    'database': 'CMEDATA',\n",
        "    'schema' : 'PUBLIC'\n",
        "}\n",
        "\n",
        "# Define Azure Blob Storage connection string and container name\n",
        "azure_storage_connection_string = userdata.get('CONNECTION_STRING_AZURE_STORAGE')\n",
        "container_name = 'cmequeryorderrecord'\n",
        "blob_names_to_load = ['XCME/Commodity_Agriculture/20231002.json']\n",
        "\n",
        "# Chunk size (adjust as needed)\n",
        "CHUNK_SIZE = 1024  # For example, 1024 bytes\n",
        "\n",
        "# Number of JSON objects to process\n",
        "json_object_limit = 5000\n",
        "\n",
        "# Function to stream JSON data from Azure Blob Storage and load it into Snowflake\n",
        "def stream_json_from_azure_and_load_to_snowflake():\n",
        "    snowflake_conn = None\n",
        "    snowflake_cursor = None\n",
        "    json_objects_processed = 0\n",
        "    try:\n",
        "        # Connect to Snowflake\n",
        "        snowflake_conn = snowflake.connector.connect(**snowflake_connection_params)\n",
        "        snowflake_cursor = snowflake_conn.cursor()\n",
        "\n",
        "        # Stream JSON data from each blob\n",
        "        for blob_name in blob_names_to_load:\n",
        "            # Connect to Azure Blob Storage\n",
        "            blob_service_client = BlobServiceClient.from_connection_string(azure_storage_connection_string)\n",
        "            blob_client = blob_service_client.get_blob_client(container=container_name, blob=blob_name)\n",
        "\n",
        "            # Start a transaction\n",
        "            snowflake_cursor.execute(\"BEGIN\")\n",
        "\n",
        "            # Prepare an insertion query\n",
        "            sql_query = \"\"\"\n",
        "              INSERT INTO CMEDATA_TABLE (\n",
        "                  actiontype, symbol, securitytype, securityexchange, nanotime, lowlimitprice, underlyingsecurityid,\n",
        "                  securitytradingevent, transacttime, maturitymonthyear, securityid, currencycode, inst_req_act,\n",
        "                  groupcode, supporteddatevalidity, hour, instrumentsequencenumber, recordtype, underlyingsymbol,\n",
        "                  marketsegmentid, putorcall, underlyingProduct, nolegs, maturitydate, strategycode,\n",
        "                  displayconversionfactor, activationdatetime, tradedate, expirationdatetime, highlimitprice,\n",
        "                  asset, messagestatus, isuserdefinedinstrument, status\n",
        "              ) VALUES (%s, %s, %s, %s, %s, %s, %s, %s, %s, %s, %s, %s, %s, %s, %s, %s, %s, %s, %s, %s, %s, %s, %s, %s, %s, %s, %s, %s, %s, %s, %s, %s, %s, %s)\n",
        "          \"\"\"\n",
        "\n",
        "\n",
        "            # Stream JSON data from Azure Blob Storage\n",
        "            stream = blob_client.download_blob()\n",
        "\n",
        "            # Read the data in chunks\n",
        "            buffer = \"\"\n",
        "            for chunk in stream.chunks():\n",
        "                buffer += chunk.decode(\"utf-8\")\n",
        "                # Split the buffer into individual JSON objects based on delimiter\n",
        "                while True:\n",
        "                    # Find the position of the next JSON object\n",
        "                    start_index = buffer.find('{')\n",
        "                    end_index = buffer.find('}', start_index) + 1\n",
        "                    if start_index != -1 and end_index != 0:\n",
        "                        # Extract the JSON object from the buffer\n",
        "                        json_str = buffer[start_index:end_index]\n",
        "                        # Load JSON data\n",
        "                        element = json.loads(json_str)\n",
        "\n",
        "\n",
        "                        # Convert \"NaN\" strings to None\n",
        "                        for key, value in element.items():\n",
        "                            if value == \"NaN\" or value == \"\":\n",
        "                                element[key] = None\n",
        "\n",
        "                        # Execute insertion query\n",
        "                        snowflake_cursor.execute(sql_query, (\n",
        "                            element.get('actiontype'), element.get('symbol'), element.get('securitytype'),\n",
        "                            element.get('securityexchange'), element.get('nanotime'), element.get('lowlimitprice'),\n",
        "                            element.get('underlyingsecurityid'), element.get('securitytradingevent'),\n",
        "                            element.get('transacttime'), element.get('maturitymonthyear'), element.get('securityid'),\n",
        "                            element.get('currencycode'), element.get('inst_req_act'), element.get('groupcode'),\n",
        "                            element.get('supporteddatevalidity'), element.get('hour'), element.get('instrumentsequencenumber'),\n",
        "                            element.get('recordtype'), element.get('underlyingsymbol'), element.get('marketsegmentid'),\n",
        "                            element.get('putorcall'), element.get('underlyingProduct'), element.get('nolegs'),\n",
        "                            element.get('maturitydate'), element.get('strategycode'), element.get('displayconversionfactor'),\n",
        "                            element.get('activationdatetime'), element.get('tradedate'), element.get('expirationdatetime'),\n",
        "                            element.get('highlimitprice'), element.get('asset'), element.get('messagestatus'),\n",
        "                            element.get('isuserdefinedinstrument'), element.get('status')\n",
        "                        ))\n",
        "                        # Remove the processed JSON object from the buffer\n",
        "                        buffer = buffer[end_index:]\n",
        "                        json_objects_processed += 1\n",
        "                        if json_objects_processed >= json_object_limit:\n",
        "                            break\n",
        "                    else:\n",
        "                        # No complete JSON object found, break the loop and wait for more data\n",
        "                        break\n",
        "                if json_objects_processed >= json_object_limit:\n",
        "                    break\n",
        "\n",
        "            # Commit the transaction\n",
        "            snowflake_cursor.execute(\"COMMIT\")\n",
        "\n",
        "        print(\"Data loaded into Snowflake successfully.\")\n",
        "\n",
        "    except Exception as e:\n",
        "        print(\"An error occurred:\", e)\n",
        "    finally:\n",
        "        # Close Snowflake connection\n",
        "        if snowflake_cursor:\n",
        "            snowflake_cursor.close()\n",
        "        if snowflake_conn:\n",
        "            snowflake_conn.close()\n",
        "\n",
        "# Call the function to stream JSON data from Azure Blob Storage and load it into Snowflake\n",
        "stream_json_from_azure_and_load_to_snowflake()\n"
      ]
    },
    {
      "cell_type": "code",
      "execution_count": null,
      "metadata": {
        "id": "Zj-zSSbtcaOY"
      },
      "outputs": [],
      "source": []
    },
    {
      "cell_type": "code",
      "execution_count": null,
      "metadata": {
        "id": "HWkhVN7-caLk"
      },
      "outputs": [],
      "source": []
    }
  ],
  "metadata": {
    "colab": {
      "provenance": []
    },
    "kernelspec": {
      "display_name": "Python 3",
      "name": "python3"
    },
    "language_info": {
      "name": "python"
    }
  },
  "nbformat": 4,
  "nbformat_minor": 0
}
